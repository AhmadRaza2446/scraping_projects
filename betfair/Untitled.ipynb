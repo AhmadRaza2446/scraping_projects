{
 "cells": [
  {
   "cell_type": "code",
   "execution_count": 1,
   "metadata": {},
   "outputs": [
    {
     "name": "stderr",
     "output_type": "stream",
     "text": [
      "\n",
      "\n",
      "====== WebDriver manager ======\n",
      "Current google-chrome version is 104.0.5112\n",
      "Get LATEST chromedriver version for 104.0.5112 google-chrome\n",
      "Trying to download new driver from https://chromedriver.storage.googleapis.com/104.0.5112.79/chromedriver_win32.zip\n",
      "Driver has been saved in cache [C:\\Users\\user\\.wdm\\drivers\\chromedriver\\win32\\104.0.5112.79]\n",
      "<ipython-input-1-c7373eef7a68>:13: DeprecationWarning: executable_path has been deprecated, please pass in a Service object\n",
      "  driver = webdriver.Chrome(ChromeDriverManager().install())\n"
     ]
    }
   ],
   "source": [
    "import pandas as pd\n",
    "import time\n",
    "from scrapy import Selector\n",
    "from selenium.webdriver.support.ui import WebDriverWait\n",
    "from selenium.webdriver.support import expected_conditions as EC\n",
    "from selenium.webdriver.common.by import By\n",
    "from selenium import webdriver\n",
    "from webdriver_manager.chrome import ChromeDriverManager\n",
    "from selenium.webdriver.chrome.options import Options\n",
    "# chrome_options = Options()  \n",
    "# chrome_options.add_argument(\"--headless\") \n",
    "# driver = webdriver.Chrome(ChromeDriverManager().install(),chrome_options=chrome_options)\n",
    "driver = webdriver.Chrome(ChromeDriverManager().install())\n",
    "\n",
    "driver.maximize_window()"
   ]
  },
  {
   "cell_type": "code",
   "execution_count": 5,
   "metadata": {},
   "outputs": [],
   "source": [
    "driver.get('https://www.betfair.com/exchange/plus/en/football-betting-1')"
   ]
  },
  {
   "cell_type": "code",
   "execution_count": 6,
   "metadata": {},
   "outputs": [],
   "source": [
    "res = Selector(text = driver.page_source)"
   ]
  },
  {
   "cell_type": "code",
   "execution_count": 9,
   "metadata": {},
   "outputs": [
    {
     "data": {
      "text/plain": [
       "['US Major League Football ',\n",
       " 'Colombian Primera A ',\n",
       " 'English Championship ',\n",
       " 'UEFA Champions League ',\n",
       " 'Spanish La Liga ',\n",
       " 'Italian Serie A ',\n",
       " 'Canadian Premier League ',\n",
       " 'Spanish Segunda Division ']"
      ]
     },
     "execution_count": 9,
     "metadata": {},
     "output_type": "execute_result"
    }
   ],
   "source": [
    "top_competitors = res.css('.active-section > li:nth-child(1) > tree-section:nth-child(2) > ul:nth-child(1) > li a::text').getall()\n",
    "top_competitors = [i for i in top_competitors if i.strip()]\n",
    "top_competitors"
   ]
  },
  {
   "cell_type": "code",
   "execution_count": 11,
   "metadata": {},
   "outputs": [
    {
     "data": {
      "text/plain": [
       "['Specials ', 'UEFA Nations League ', 'CONMEBOL Copa Libertadores ']"
      ]
     },
     "execution_count": 11,
     "metadata": {},
     "output_type": "execute_result"
    }
   ],
   "source": [
    "internationals = res.css('.active-section > li:nth-child(3) > tree-section:nth-child(2) > ul:nth-child(1) > li a::text').getall()\n",
    "internationals = [i for i in internationals if i.strip()]\n",
    "internationals"
   ]
  },
  {
   "cell_type": "code",
   "execution_count": 14,
   "metadata": {},
   "outputs": [
    {
     "data": {
      "text/plain": [
       "['United States ',\n",
       " 'Colombia ',\n",
       " 'United Kingdom ',\n",
       " 'International ',\n",
       " 'Spain ',\n",
       " 'Italy ']"
      ]
     },
     "execution_count": 14,
     "metadata": {},
     "output_type": "execute_result"
    }
   ],
   "source": [
    "countries = res.css('.active-section > li:nth-child(2) > tree-section:nth-child(2) > ul:nth-child(1) > li a::text').getall()\n",
    "countries = [i for i in countries if i.strip()]\n",
    "countries"
   ]
  },
  {
   "cell_type": "code",
   "execution_count": 15,
   "metadata": {},
   "outputs": [
    {
     "data": {
      "text/plain": [
       "['All Football ', 'Specials ']"
      ]
     },
     "execution_count": 15,
     "metadata": {},
     "output_type": "execute_result"
    }
   ],
   "source": [
    "more = res.css('.active-section > li:nth-child(4) > tree-section:nth-child(2) > ul:nth-child(1) > li > a::text').getall()\n",
    "more = [i for i in more if i.strip()]\n",
    "more"
   ]
  },
  {
   "cell_type": "code",
   "execution_count": null,
   "metadata": {},
   "outputs": [],
   "source": []
  }
 ],
 "metadata": {
  "kernelspec": {
   "display_name": "Python 3",
   "language": "python",
   "name": "python3"
  },
  "language_info": {
   "codemirror_mode": {
    "name": "ipython",
    "version": 3
   },
   "file_extension": ".py",
   "mimetype": "text/x-python",
   "name": "python",
   "nbconvert_exporter": "python",
   "pygments_lexer": "ipython3",
   "version": "3.8.3"
  }
 },
 "nbformat": 4,
 "nbformat_minor": 4
}
