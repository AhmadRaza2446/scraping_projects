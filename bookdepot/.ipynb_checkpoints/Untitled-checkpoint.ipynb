{
 "cells": [
  {
   "cell_type": "code",
   "execution_count": null,
   "metadata": {},
   "outputs": [],
   "source": [
    "import pandas as pd\n",
    "import time\n",
    "from scrapy import Selector\n",
    "from selenium.webdriver.support.ui import WebDriverWait\n",
    "from selenium.webdriver.support import expected_conditions as EC\n",
    "from selenium.webdriver.common.by import By\n",
    "from selenium import webdriver\n",
    "from webdriver_manager.chrome import ChromeDriverManager\n",
    "from selenium.webdriver.chrome.options import Options\n",
    "# chrome_options = Options()  \n",
    "# chrome_options.add_argument(\"--headless\") \n",
    "# driver = webdriver.Chrome(ChromeDriverManager().install(),chrome_options=chrome_options)\n",
    "driver = webdriver.Chrome(ChromeDriverManager().install())\n",
    "\n",
    "driver.maximize_window()"
   ]
  },
  {
   "cell_type": "code",
   "execution_count": null,
   "metadata": {},
   "outputs": [],
   "source": [
    "list_of_dict = list()\n",
    "for i in range(52,106):\n",
    "    print('Page: ', i)\n",
    "    driver.get(\"https://www.bookdepot.com/Store/Browse?page={}&size=96&sort=arrival_1\".format(i))\n",
    "    res = Selector(text=driver.page_source)\n",
    "    urls = res.css('div.grid-image a::attr(href)').getall()\n",
    "    for url in urls:\n",
    "        temp = dict()\n",
    "        url = 'https://www.bookdepot.com' + url\n",
    "        driver.get(url)\n",
    "        time.sleep(3)\n",
    "        res1 = Selector(text=driver.page_source)\n",
    "        sku = res1.css('#tab-info > div > div:nth-child(1) > table > tbody > tr:nth-child(1) > td:nth-child(2) > span::text').get()\n",
    "        try:\n",
    "            price = res1.css('#color-panel > div > div:nth-child(2) > div.col-md-8 > table > tbody > tr:nth-child(4) > td:nth-child(2) > span::text').get()\n",
    "            avail = res1.css('#color-panel > div > div:nth-child(2) > div.col-md-8 > table > tbody > tr:nth-child(5) > td:nth-child(2)::text').get().strip()\n",
    "            print('SKu: ', sku)\n",
    "            print('Price: ', price)\n",
    "            print('Avail: ', avail)\n",
    "            temp['sku'] = sku\n",
    "            temp['price'] = price\n",
    "            temp['instock'] = avail\n",
    "            list_of_dict.append(temp)\n",
    "        except:\n",
    "            price = res1.css('#color-panel > div > div:nth-child(2) > div.col-md-8 > table > tbody > tr:nth-child(4) > td:nth-child(2) > span::text').get()\n",
    "            avail = res1.css('#color-panel > div > div:nth-child(2) > div.col-md-8 > table > tbody > tr:nth-child(6) > td:nth-child(2)::text').get().strip()\n",
    "            print('SKu: ', sku)\n",
    "            print('Price: ', price)\n",
    "            print('Avail: ', avail)\n",
    "            temp['sku'] = sku\n",
    "            temp['price'] = price\n",
    "            temp['instock'] = avail\n",
    "            list_of_dict.append(temp)"
   ]
  },
  {
   "cell_type": "code",
   "execution_count": null,
   "metadata": {},
   "outputs": [],
   "source": [
    "len(list_of_dict)"
   ]
  },
  {
   "cell_type": "code",
   "execution_count": null,
   "metadata": {},
   "outputs": [],
   "source": [
    "list_of_dict"
   ]
  },
  {
   "cell_type": "code",
   "execution_count": null,
   "metadata": {},
   "outputs": [],
   "source": [
    "df = pd.DataFrame(list_of_dict)\n",
    "df"
   ]
  },
  {
   "cell_type": "code",
   "execution_count": null,
   "metadata": {},
   "outputs": [],
   "source": [
    "df.to_csv('data4.csv',index=False)"
   ]
  },
  {
   "cell_type": "code",
   "execution_count": null,
   "metadata": {},
   "outputs": [],
   "source": []
  }
 ],
 "metadata": {
  "kernelspec": {
   "display_name": "Python 3",
   "language": "python",
   "name": "python3"
  },
  "language_info": {
   "codemirror_mode": {
    "name": "ipython",
    "version": 3
   },
   "file_extension": ".py",
   "mimetype": "text/x-python",
   "name": "python",
   "nbconvert_exporter": "python",
   "pygments_lexer": "ipython3",
   "version": "3.8.3"
  }
 },
 "nbformat": 4,
 "nbformat_minor": 4
}
